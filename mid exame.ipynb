{
 "cells": [
  {
   "cell_type": "code",
   "execution_count": 99,
   "id": "2abe52c8",
   "metadata": {},
   "outputs": [
    {
     "name": "stdout",
     "output_type": "stream",
     "text": [
      "d\n",
      "l\n",
      "r\n",
      "o\n",
      "w\n",
      " \n",
      "o\n",
      "l\n",
      "l\n",
      "e\n",
      "h\n"
     ]
    }
   ],
   "source": [
    "B=\"hello world\"\n",
    "\n",
    "K=len(B)-1\n",
    "\n",
    "for i in range(0,K+1):\n",
    "    print(B[K])\n",
    "    K=K-1\n"
   ]
  },
  {
   "cell_type": "code",
   "execution_count": 100,
   "id": "635a538f",
   "metadata": {},
   "outputs": [
    {
     "name": "stdout",
     "output_type": "stream",
     "text": [
      "Enter a string to reverse itloill\n",
      "l\n",
      "l\n",
      "i\n",
      "o\n",
      "l\n"
     ]
    }
   ],
   "source": [
    "B=str(input(\"Enter a string to reverse it\"))\n",
    "\n",
    "K=len(B)-1\n",
    "\n",
    "for i in range(0,K+1):\n",
    "    print(B[K])\n",
    "    K=K-1\n"
   ]
  },
  {
   "cell_type": "code",
   "execution_count": 101,
   "id": "ec06fbfb",
   "metadata": {},
   "outputs": [
    {
     "name": "stdout",
     "output_type": "stream",
     "text": [
      "5\n",
      "4\n",
      "3\n",
      "2\n",
      "1\n"
     ]
    }
   ],
   "source": [
    "l=[1,2,3,4,5]\n",
    "\n",
    "k=len(l)-1\n",
    "\n",
    "for i in range(k+1):\n",
    "    print(l[k])\n",
    "    k=k-1"
   ]
  },
  {
   "cell_type": "code",
   "execution_count": null,
   "id": "3e25ee09",
   "metadata": {},
   "outputs": [],
   "source": []
  },
  {
   "cell_type": "code",
   "execution_count": 102,
   "id": "b30b58b6",
   "metadata": {},
   "outputs": [
    {
     "name": "stdout",
     "output_type": "stream",
     "text": [
      "Enter a list to reverse 99 89 90\n",
      "09 98 99"
     ]
    }
   ],
   "source": [
    "l=list(input(\"Enter a list to reverse \"))\n",
    "\n",
    "k=len(l)-1\n",
    "\n",
    "for i in range(k+1):\n",
    "    print(l[k],end=\"\")\n",
    "    k=k-1"
   ]
  },
  {
   "cell_type": "code",
   "execution_count": null,
   "id": "c05ccf86",
   "metadata": {},
   "outputs": [],
   "source": []
  },
  {
   "cell_type": "code",
   "execution_count": 103,
   "id": "827911dd",
   "metadata": {},
   "outputs": [
    {
     "name": "stdout",
     "output_type": "stream",
     "text": [
      "Enter a vowel to if it is vowel or notn\n",
      "n  is the  given latter is not vowel  \n"
     ]
    }
   ],
   "source": [
    "vowel=str(input(\"Enter a vowel to if it is vowel or not\"))\n",
    "#con=\"\"\n",
    "if vowel =='a' or vowel=='A' or vowel =='e' or vowel =='E' or vowel =='i' or vowel =='I' or vowel =='o' or vowel== 'O' or vowel =='u' or vowel =='U':\n",
    "    print(\"The given latter is vowel which is \",vowel)\n",
    "else :\n",
    "    print(vowel,\" is the  given latter is not vowel  \")\n",
    "    "
   ]
  },
  {
   "cell_type": "code",
   "execution_count": null,
   "id": "ac16402b",
   "metadata": {},
   "outputs": [],
   "source": []
  },
  {
   "cell_type": "code",
   "execution_count": null,
   "id": "7f03e03b",
   "metadata": {},
   "outputs": [],
   "source": []
  },
  {
   "cell_type": "code",
   "execution_count": 104,
   "id": "3fe42fa2",
   "metadata": {},
   "outputs": [
    {
     "name": "stdout",
     "output_type": "stream",
     "text": [
      "Enter a string if it is palender or notk\n",
      "Writer string back of your word if it is palenderdad\n",
      "string is not palender  k  not == dad\n"
     ]
    }
   ],
   "source": [
    "j=str(input(\"Enter a string if it is palender or not\"))\n",
    "\n",
    "k=str(input(\"Writer string back of your word if it is palender\"))\n",
    "\n",
    "if j==k:\n",
    "    print(\"string is palender \",j,\" is == \",k)\n",
    "    \n",
    "else :\n",
    "    \n",
    "    print(\"string is not palender \",j,\" not ==\",k)"
   ]
  },
  {
   "cell_type": "code",
   "execution_count": null,
   "id": "9d824d87",
   "metadata": {},
   "outputs": [],
   "source": []
  },
  {
   "cell_type": "code",
   "execution_count": null,
   "id": "55580c97",
   "metadata": {},
   "outputs": [],
   "source": []
  },
  {
   "cell_type": "code",
   "execution_count": 109,
   "id": "2526176d",
   "metadata": {},
   "outputs": [
    {
     "name": "stdout",
     "output_type": "stream",
     "text": [
      "Sum of all CUBE number is  = 30\n",
      "Sum of all CUBE number is  = 260\n",
      "Sum of all CUBE number is  = 3130\n"
     ]
    },
    {
     "data": {
      "text/plain": [
       "5"
      ]
     },
     "execution_count": 109,
     "metadata": {},
     "output_type": "execute_result"
    }
   ],
   "source": [
    "def sum_cube (j):\n",
    "    for o in j:\n",
    "        l=o**o+o\n",
    "        print(\"Sum of all CUBE number is  =\",l)  \n",
    "    return o\n",
    "j=[3,4,5]\n",
    "sum_cube(j)"
   ]
  },
  {
   "cell_type": "code",
   "execution_count": null,
   "id": "ccbb53db",
   "metadata": {},
   "outputs": [],
   "source": []
  },
  {
   "cell_type": "code",
   "execution_count": null,
   "id": "1c87c85f",
   "metadata": {},
   "outputs": [],
   "source": []
  }
 ],
 "metadata": {
  "kernelspec": {
   "display_name": "Python 3",
   "language": "python",
   "name": "python3"
  },
  "language_info": {
   "codemirror_mode": {
    "name": "ipython",
    "version": 3
   },
   "file_extension": ".py",
   "mimetype": "text/x-python",
   "name": "python",
   "nbconvert_exporter": "python",
   "pygments_lexer": "ipython3",
   "version": "3.8.8"
  }
 },
 "nbformat": 4,
 "nbformat_minor": 5
}
